{
 "cells": [
  {
   "cell_type": "markdown",
   "metadata": {},
   "source": [
    "<div>\n",
    "<img src=\"https://i.ibb.co/v3CvVz9/udd-short.png\" width=\"150\"/>\n",
    "    <br>\n",
    "    <strong>Universidad del Desarrollo</strong><br>\n",
    "    <em>Magíster en Data Science</em><br>\n",
    "    <em>Profesor: Tomás Fontecilla </em><br>\n",
    "\n",
    "</div>\n",
    "\n",
    "### **TAREA: Redes Convolucionales**\n",
    "\n",
    "*02 de Diciembre de 2024*\n",
    "\n",
    "**Nombre Estudiante(s)**: Constanza Perez - Cristian Tobar"
   ]
  },
  {
   "cell_type": "markdown",
   "metadata": {},
   "source": [
    "### **1. Introducción**"
   ]
  },
  {
   "cell_type": "markdown",
   "metadata": {},
   "source": [
    "En esta tarea, aplicaremos redes neuronales convolucionales (CNN) utilizando la base de datos \"Chihuahuas vs Muffin\" de Kaggle. Además, compararemos los resultados obtenidos con un modelo de perceptrón multicapa (MLP) para determinar cuál de los dos modelos ofrece una mejor precisión en la clasificación de imágenes."
   ]
  },
  {
   "cell_type": "markdown",
   "metadata": {},
   "source": [
    "### **2. Objetivo**"
   ]
  },
  {
   "cell_type": "markdown",
   "metadata": {},
   "source": [
    "El objetivo es analizar y evaluar el rendimiento de ambos enfoques en términos de precisión y eficacia, proporcionando una visión clara sobre sus fortalezas y debilidades en la tarea de clasificación."
   ]
  },
  {
   "cell_type": "markdown",
   "metadata": {},
   "source": [
    "### **3. Metodología**"
   ]
  }
 ],
 "metadata": {
  "language_info": {
   "name": "python"
  }
 },
 "nbformat": 4,
 "nbformat_minor": 2
}
